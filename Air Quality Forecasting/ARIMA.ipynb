{
  "nbformat": 4,
  "nbformat_minor": 0,
  "metadata": {
    "colab": {
      "provenance": []
    },
    "kernelspec": {
      "name": "python3",
      "display_name": "Python 3"
    },
    "language_info": {
      "name": "python"
    }
  },
  "cells": [
    {
      "cell_type": "code",
      "execution_count": null,
      "metadata": {
        "id": "DFHYhepIlmc4"
      },
      "outputs": [],
      "source": [
        "import inspect\n",
        "import time\n",
        "import warnings\n",
        "\n",
        "import matplotlib.pyplot as plt\n",
        "import pandas as pd\n",
        "import plotly.express as px\n",
        "import seaborn as sns\n",
        "from IPython.display import VimeoVideo\n",
        "from pymongo import MongoClient\n",
        "from sklearn.metrics import mean_absolute_error\n",
        "from statsmodels.graphics.tsaplots import plot_acf, plot_pacf\n",
        "from statsmodels.tsa.arima.model import ARIMA\n",
        "\n",
        "warnings.filterwarnings(\"ignore\")\n"
      ]
    },
    {
      "cell_type": "code",
      "source": [
        "client = MongoClient(host='localhost', port=27017)\n",
        "db = client['air-quality']\n",
        "nairobi = db['nairobi']"
      ],
      "metadata": {
        "id": "Z-dPF-akmrm1"
      },
      "execution_count": null,
      "outputs": []
    },
    {
      "cell_type": "code",
      "source": [
        "def wrangle(collection,resample_rule='1H'):\n",
        "\n",
        "    results = collection.find(\n",
        "        {\"metadata.site\": 29, \"metadata.measurement\": \"P2\"},\n",
        "        projection={\"P2\": 1, \"timestamp\": 1, \"_id\": 0},\n",
        "    )\n",
        "\n",
        "    # Read results into DataFrame\n",
        "    df = pd.DataFrame(list(results)).set_index(\"timestamp\")\n",
        "\n",
        "    # Localize timezone\n",
        "    df.index = df.index.tz_localize(\"UTC\").tz_convert(\"Africa/Nairobi\")\n",
        "\n",
        "    # Remove outliers\n",
        "    df = df[df[\"P2\"] < 500]\n",
        "\n",
        "    # Resample and forward-fill\n",
        "    y =df['P2'].resample(resample_rule).mean().fillna(method='ffill')\n",
        "\n",
        "    return y"
      ],
      "metadata": {
        "id": "PCK03QCNmvgy"
      },
      "execution_count": null,
      "outputs": []
    },
    {
      "cell_type": "code",
      "source": [
        "y = wrangle(nairobi,'1H')\n",
        "y.head(32)"
      ],
      "metadata": {
        "id": "2gm1egyHmxLl"
      },
      "execution_count": null,
      "outputs": []
    },
    {
      "cell_type": "code",
      "source": [
        "y_train = y.iloc[:31*24]\n",
        "y_test = y.iloc[744:744+24]\n"
      ],
      "metadata": {
        "id": "-Weq6cjhmywQ"
      },
      "execution_count": null,
      "outputs": []
    },
    {
      "cell_type": "code",
      "source": [
        "y_train_mean=y_train.mean()\n",
        "y_base=[y_train_mean]*len(y_train)\n",
        "mae_baseline=mean_absolute_error(y_train,y_base)\n",
        "print(\"Mean P2 Reading:\", round(y_train_mean, 2))\n",
        "print(\"Baseline MAE:\", round(mae_baseline, 2))"
      ],
      "metadata": {
        "id": "gy75LGdfm1A5"
      },
      "execution_count": null,
      "outputs": []
    },
    {
      "cell_type": "code",
      "source": [
        "p_params = range(0,25,8)\n",
        "q_params = range(0,3,1)"
      ],
      "metadata": {
        "id": "_nEJz2E4m2lK"
      },
      "execution_count": null,
      "outputs": []
    },
    {
      "cell_type": "code",
      "source": [
        "# Create dictionary to store MAEs\n",
        "mae_grid = dict()\n",
        "# Outer loop: Iterate through possible values for `p`\n",
        "for p in p_params:\n",
        "    # Create key-value pair in dict. Key is `p`, value is empty list.\n",
        "    mae_grid[p] = list()\n",
        "    # Inner loop: Iterate through possible values for `q`\n",
        "    for q in q_params:\n",
        "        # Combination of hyperparameters for model\n",
        "        order = (p, 0, q)\n",
        "        # Note start time\n",
        "        start_time = time.time()\n",
        "        # Train model\n",
        "        model = ARIMA(y_train,order=order).fit()\n",
        "        # Calculate model training time\n",
        "        elapsed_time = round(time.time() - start_time, 2)\n",
        "        print(f\"Trained ARIMA {order} in {elapsed_time} seconds.\")\n",
        "        # Generate in-sample (training) predictions\n",
        "        y_pred = model.predict()\n",
        "        # Calculate training MAE\n",
        "        mae = mean_absolute_error(y_train,y_pred)\n",
        "        print(mae)\n",
        "        # Append MAE to list in dictionary\n",
        "        mae_grid[p].append(mae)\n",
        "\n",
        "print()\n",
        "print(mae_grid)"
      ],
      "metadata": {
        "id": "IkjDjLr8m4zA"
      },
      "execution_count": null,
      "outputs": []
    },
    {
      "cell_type": "code",
      "source": [
        "mae_df = pd.DataFrame(mae_grid)\n",
        "mae_df.round(4)\n",
        "mae_df"
      ],
      "metadata": {
        "id": "dJPclvs1m7WY"
      },
      "execution_count": null,
      "outputs": []
    },
    {
      "cell_type": "code",
      "source": [
        "sns.heatmap(mae_df,cmap=\"Blues\");\n",
        "plt.xlabel(\"P values\")\n",
        "plt.ylabel(\"Q values\")\n",
        "plt.title(\"ARMA Grid Search (MAE)\")"
      ],
      "metadata": {
        "id": "nx2Rfy7zm9HJ"
      },
      "execution_count": null,
      "outputs": []
    },
    {
      "cell_type": "code",
      "source": [
        "fig, ax = plt.subplots(figsize=(15, 12))\n",
        "model.plot_diagnostics(fig=fig);"
      ],
      "metadata": {
        "id": "UbNMD1ZCm-wT"
      },
      "execution_count": null,
      "outputs": []
    },
    {
      "cell_type": "code",
      "source": [
        "y_pred_wfv = pd.Series()\n",
        "history = y_train.copy()\n",
        "for i in range(len(y_test)):\n",
        "    model = ARIMA(history,order=(8,0,2)).fit()\n",
        "    next_pred = model.forecast()\n",
        "    y_pred_wfv = y_pred_wfv.append(next_pred)\n",
        "    history = history.append(y_test[next_pred.index])"
      ],
      "metadata": {
        "id": "iP8_0zSZnAVh"
      },
      "execution_count": null,
      "outputs": []
    },
    {
      "cell_type": "code",
      "source": [
        "test_mae = mean_absolute_error(y_test,y_pred_wfv)\n",
        "print(\"Test MAE (walk forward validation):\", round(test_mae, 2))"
      ],
      "metadata": {
        "id": "h3fKJlu4nCFp"
      },
      "execution_count": null,
      "outputs": []
    },
    {
      "cell_type": "code",
      "source": [
        "df_predictions = pd.DataFrame({\"y_test\":y_test,\"y_pred_wfv\":y_pred_wfv})\n",
        "fig = px.line(df_predictions,labels={\"value\":\"PM2.5\"})\n",
        "fig.show()"
      ],
      "metadata": {
        "id": "JvDTGkYCnESG"
      },
      "execution_count": null,
      "outputs": []
    }
  ]
}