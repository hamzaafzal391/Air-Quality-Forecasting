{
  "nbformat": 4,
  "nbformat_minor": 0,
  "metadata": {
    "colab": {
      "provenance": []
    },
    "kernelspec": {
      "name": "python3",
      "display_name": "Python 3"
    },
    "language_info": {
      "name": "python"
    }
  },
  "cells": [
    {
      "cell_type": "code",
      "execution_count": null,
      "metadata": {
        "id": "DNSuPIK7lltA"
      },
      "outputs": [],
      "source": [
        "import warnings\n",
        "\n",
        "import matplotlib.pyplot as plt\n",
        "import pandas as pd\n",
        "import plotly.express as px\n",
        "from IPython.display import VimeoVideo\n",
        "from pymongo import MongoClient\n",
        "from sklearn.metrics import mean_absolute_error\n",
        "from statsmodels.graphics.tsaplots import plot_acf, plot_pacf\n",
        "from statsmodels.tsa.ar_model import AutoReg\n",
        "\n",
        "warnings.simplefilter(action=\"ignore\", category=FutureWarning)"
      ]
    },
    {
      "cell_type": "code",
      "source": [
        "client = MongoClient(host='localhost',port=27017)\n",
        "db = client['air-quality']\n",
        "nairobi =db['nairobi']"
      ],
      "metadata": {
        "id": "YxNZd2wflodC"
      },
      "execution_count": null,
      "outputs": []
    },
    {
      "cell_type": "code",
      "source": [
        "y = wrangle(nairobi)\n",
        "y.head()"
      ],
      "metadata": {
        "id": "wDKebUqHlsa2"
      },
      "execution_count": null,
      "outputs": []
    },
    {
      "cell_type": "code",
      "source": [
        "# get correlation between timestamps\n",
        "fig, ax = plt.subplots(figsize=(15, 6))\n",
        "plot_acf(y,ax)\n",
        "plt.xlabel(\"Lag [hours]\")\n",
        "plt.ylabel(\"Correlation Coefficient\");"
      ],
      "metadata": {
        "id": "wHpxY7K3lvzH"
      },
      "execution_count": null,
      "outputs": []
    },
    {
      "cell_type": "code",
      "source": [
        "fig, ax = plt.subplots(figsize=(15, 6))\n",
        "plot_pacf(y,ax)\n",
        "plt.xlabel(\"Lag [hours]\")\n",
        "plt.ylabel(\"Correlation Coefficient\");"
      ],
      "metadata": {
        "id": "i-i8fnyTlz2e"
      },
      "execution_count": null,
      "outputs": []
    },
    {
      "cell_type": "code",
      "source": [
        "cutoff_test = int(0.95*len(y))\n",
        "\n",
        "y_train = y.iloc[:cutoff_test]\n",
        "y_test = y.iloc[cutoff_test:]"
      ],
      "metadata": {
        "id": "KvjyIeCXl5UR"
      },
      "execution_count": null,
      "outputs": []
    },
    {
      "cell_type": "code",
      "source": [
        "y_train_mean = y_train.mean()\n",
        "y_pred_baseline = [y_train_mean] * len(y_train)\n",
        "mae_baseline = mean_absolute_error(y_train, y_pred_baseline)\n",
        "\n",
        "print(\"Mean P2 Reading:\", round(y_train_mean, 2))\n",
        "print(\"Baseline MAE:\", round(mae_baseline, 2))"
      ],
      "metadata": {
        "id": "hr-2Xpmll7DZ"
      },
      "execution_count": null,
      "outputs": []
    },
    {
      "cell_type": "code",
      "source": [
        "model = AutoReg(y_train, lags=26).fit()"
      ],
      "metadata": {
        "id": "1aO0m2l1l9OO"
      },
      "execution_count": null,
      "outputs": []
    },
    {
      "cell_type": "code",
      "source": [
        "y_pred = model.predict().dropna()\n",
        "training_mae = mean_absolute_error(y_train.iloc[26:],y_pred)\n",
        "print(\"Training MAE:\", training_mae)"
      ],
      "metadata": {
        "id": "sV-KSfGVmACd"
      },
      "execution_count": null,
      "outputs": []
    },
    {
      "cell_type": "code",
      "source": [
        "y_train_resid = model.resid\n",
        "y_train_resid.tail()"
      ],
      "metadata": {
        "id": "I9wGg-zBmBmy"
      },
      "execution_count": null,
      "outputs": []
    },
    {
      "cell_type": "code",
      "source": [
        "fig, ax = plt.subplots(figsize=(15, 6))\n",
        "plt.plot(y_train_resid)"
      ],
      "metadata": {
        "id": "RESrTqh4mDOR"
      },
      "execution_count": null,
      "outputs": []
    },
    {
      "cell_type": "code",
      "source": [
        "plt.hist(y_train_resid)\n",
        "plt.xlabel('Residual val')\n",
        "plt.ylabel('frequencey')"
      ],
      "metadata": {
        "id": "bQgMrog8mEvl"
      },
      "execution_count": null,
      "outputs": []
    },
    {
      "cell_type": "code",
      "source": [
        "fig, ax = plt.subplots(figsize=(15, 6))\n",
        "plot_acf(y_train_resid,ax)"
      ],
      "metadata": {
        "id": "V7Ltsp-5mGek"
      },
      "execution_count": null,
      "outputs": []
    },
    {
      "cell_type": "code",
      "source": [
        "y_pred_test = model.predict(y_test.index.min(),y_test.index.max())\n",
        "test_mae = mean_absolute_error(y_test,y_pred_test)\n",
        "print(\"Test MAE:\", test_mae)"
      ],
      "metadata": {
        "id": "WfJwDEfDmICd"
      },
      "execution_count": null,
      "outputs": []
    },
    {
      "cell_type": "code",
      "source": [
        "df_pred_test = pd.DataFrame(\n",
        "    {\"y_test\": y_test, \"y_pred\": y_pred_test}, index=y_test.index\n",
        ")\n",
        "fig = px.line(df_pred_test, labels={\"value\": \"P2\"})\n",
        "fig.show()"
      ],
      "metadata": {
        "id": "voFK_f_cmKUj"
      },
      "execution_count": null,
      "outputs": []
    },
    {
      "cell_type": "code",
      "source": [
        "%%capture\n",
        "\n",
        "y_pred_wfv = pd.Series()\n",
        "history = y_train.copy()\n",
        "for i in range(len(y_test)):\n",
        "    model=AutoReg(history,lags=26).fit()\n",
        "    next_pred=model.forecast()\n",
        "    y_pred_wfv=y_pred_wfv.append(next_pred)\n",
        "    history=history.append(y_test[next_pred.index])\n",
        "print(model.params)"
      ],
      "metadata": {
        "id": "Mc1EndComP-W"
      },
      "execution_count": null,
      "outputs": []
    },
    {
      "cell_type": "code",
      "source": [
        "df_pred_test=pd.DataFrame(\n",
        "{\"y_test\":y_test,\"y_pred_wfv\":y_pred_wfv}\n",
        ")\n",
        "fig = px.line(df_pred_test,labels={\"value\":\"PM2.5\"})\n",
        "fig.show()"
      ],
      "metadata": {
        "id": "5-QsYV0MmU4P"
      },
      "execution_count": null,
      "outputs": []
    }
  ]
}